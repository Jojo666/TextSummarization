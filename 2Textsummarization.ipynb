{
  "nbformat": 4,
  "nbformat_minor": 0,
  "metadata": {
    "colab": {
      "name": "2Textsummarization.ipynb",
      "provenance": [],
      "authorship_tag": "ABX9TyN6F2GyUX68HR7E9PslgidK",
      "include_colab_link": true
    },
    "kernelspec": {
      "name": "python3",
      "display_name": "Python 3"
    },
    "language_info": {
      "name": "python"
    },
    "widgets": {
      "application/vnd.jupyter.widget-state+json": {
        "967af17a80984822916d1c36b9d652ab": {
          "model_module": "@jupyter-widgets/controls",
          "model_name": "HBoxModel",
          "model_module_version": "1.5.0",
          "state": {
            "_view_name": "HBoxView",
            "_dom_classes": [],
            "_model_name": "HBoxModel",
            "_view_module": "@jupyter-widgets/controls",
            "_model_module_version": "1.5.0",
            "_view_count": null,
            "_view_module_version": "1.5.0",
            "box_style": "",
            "layout": "IPY_MODEL_e17884e74c244b85ad253cea8ac70cfe",
            "_model_module": "@jupyter-widgets/controls",
            "children": [
              "IPY_MODEL_c27ae19cca4f4676aed3f78ad0bb12f3",
              "IPY_MODEL_aa2479b11b5a4e73a10189d0377730ac",
              "IPY_MODEL_4ff3f3c1577a4b2ab6cd18aa0364d5cd"
            ]
          }
        },
        "e17884e74c244b85ad253cea8ac70cfe": {
          "model_module": "@jupyter-widgets/base",
          "model_name": "LayoutModel",
          "model_module_version": "1.2.0",
          "state": {
            "_view_name": "LayoutView",
            "grid_template_rows": null,
            "right": null,
            "justify_content": null,
            "_view_module": "@jupyter-widgets/base",
            "overflow": null,
            "_model_module_version": "1.2.0",
            "_view_count": null,
            "flex_flow": null,
            "width": null,
            "min_width": null,
            "border": null,
            "align_items": null,
            "bottom": null,
            "_model_module": "@jupyter-widgets/base",
            "top": null,
            "grid_column": null,
            "overflow_y": null,
            "overflow_x": null,
            "grid_auto_flow": null,
            "grid_area": null,
            "grid_template_columns": null,
            "flex": null,
            "_model_name": "LayoutModel",
            "justify_items": null,
            "grid_row": null,
            "max_height": null,
            "align_content": null,
            "visibility": null,
            "align_self": null,
            "height": null,
            "min_height": null,
            "padding": null,
            "grid_auto_rows": null,
            "grid_gap": null,
            "max_width": null,
            "order": null,
            "_view_module_version": "1.2.0",
            "grid_template_areas": null,
            "object_position": null,
            "object_fit": null,
            "grid_auto_columns": null,
            "margin": null,
            "display": null,
            "left": null
          }
        },
        "c27ae19cca4f4676aed3f78ad0bb12f3": {
          "model_module": "@jupyter-widgets/controls",
          "model_name": "HTMLModel",
          "model_module_version": "1.5.0",
          "state": {
            "_view_name": "HTMLView",
            "style": "IPY_MODEL_2b0761bfd7334d279728fc280a0df6b2",
            "_dom_classes": [],
            "description": "",
            "_model_name": "HTMLModel",
            "placeholder": "​",
            "_view_module": "@jupyter-widgets/controls",
            "_model_module_version": "1.5.0",
            "value": "Downloading: 100%",
            "_view_count": null,
            "_view_module_version": "1.5.0",
            "description_tooltip": null,
            "_model_module": "@jupyter-widgets/controls",
            "layout": "IPY_MODEL_2a8fdb114de641039cf578793e0722a8"
          }
        },
        "aa2479b11b5a4e73a10189d0377730ac": {
          "model_module": "@jupyter-widgets/controls",
          "model_name": "FloatProgressModel",
          "model_module_version": "1.5.0",
          "state": {
            "_view_name": "ProgressView",
            "style": "IPY_MODEL_9534b8190aae4963a456305375cefb2e",
            "_dom_classes": [],
            "description": "",
            "_model_name": "FloatProgressModel",
            "bar_style": "success",
            "max": 898823,
            "_view_module": "@jupyter-widgets/controls",
            "_model_module_version": "1.5.0",
            "value": 898823,
            "_view_count": null,
            "_view_module_version": "1.5.0",
            "orientation": "horizontal",
            "min": 0,
            "description_tooltip": null,
            "_model_module": "@jupyter-widgets/controls",
            "layout": "IPY_MODEL_652cfd7070ef41a1a4d0c1aad80bc7ae"
          }
        },
        "4ff3f3c1577a4b2ab6cd18aa0364d5cd": {
          "model_module": "@jupyter-widgets/controls",
          "model_name": "HTMLModel",
          "model_module_version": "1.5.0",
          "state": {
            "_view_name": "HTMLView",
            "style": "IPY_MODEL_9b1131d05edc4a69a4d7e512f1f41fed",
            "_dom_classes": [],
            "description": "",
            "_model_name": "HTMLModel",
            "placeholder": "​",
            "_view_module": "@jupyter-widgets/controls",
            "_model_module_version": "1.5.0",
            "value": " 878k/878k [00:00&lt;00:00, 1.05MB/s]",
            "_view_count": null,
            "_view_module_version": "1.5.0",
            "description_tooltip": null,
            "_model_module": "@jupyter-widgets/controls",
            "layout": "IPY_MODEL_ef8dfb823de24c97b41bb9a056e5cc47"
          }
        },
        "2b0761bfd7334d279728fc280a0df6b2": {
          "model_module": "@jupyter-widgets/controls",
          "model_name": "DescriptionStyleModel",
          "model_module_version": "1.5.0",
          "state": {
            "_view_name": "StyleView",
            "_model_name": "DescriptionStyleModel",
            "description_width": "",
            "_view_module": "@jupyter-widgets/base",
            "_model_module_version": "1.5.0",
            "_view_count": null,
            "_view_module_version": "1.2.0",
            "_model_module": "@jupyter-widgets/controls"
          }
        },
        "2a8fdb114de641039cf578793e0722a8": {
          "model_module": "@jupyter-widgets/base",
          "model_name": "LayoutModel",
          "model_module_version": "1.2.0",
          "state": {
            "_view_name": "LayoutView",
            "grid_template_rows": null,
            "right": null,
            "justify_content": null,
            "_view_module": "@jupyter-widgets/base",
            "overflow": null,
            "_model_module_version": "1.2.0",
            "_view_count": null,
            "flex_flow": null,
            "width": null,
            "min_width": null,
            "border": null,
            "align_items": null,
            "bottom": null,
            "_model_module": "@jupyter-widgets/base",
            "top": null,
            "grid_column": null,
            "overflow_y": null,
            "overflow_x": null,
            "grid_auto_flow": null,
            "grid_area": null,
            "grid_template_columns": null,
            "flex": null,
            "_model_name": "LayoutModel",
            "justify_items": null,
            "grid_row": null,
            "max_height": null,
            "align_content": null,
            "visibility": null,
            "align_self": null,
            "height": null,
            "min_height": null,
            "padding": null,
            "grid_auto_rows": null,
            "grid_gap": null,
            "max_width": null,
            "order": null,
            "_view_module_version": "1.2.0",
            "grid_template_areas": null,
            "object_position": null,
            "object_fit": null,
            "grid_auto_columns": null,
            "margin": null,
            "display": null,
            "left": null
          }
        },
        "9534b8190aae4963a456305375cefb2e": {
          "model_module": "@jupyter-widgets/controls",
          "model_name": "ProgressStyleModel",
          "model_module_version": "1.5.0",
          "state": {
            "_view_name": "StyleView",
            "_model_name": "ProgressStyleModel",
            "description_width": "",
            "_view_module": "@jupyter-widgets/base",
            "_model_module_version": "1.5.0",
            "_view_count": null,
            "_view_module_version": "1.2.0",
            "bar_color": null,
            "_model_module": "@jupyter-widgets/controls"
          }
        },
        "652cfd7070ef41a1a4d0c1aad80bc7ae": {
          "model_module": "@jupyter-widgets/base",
          "model_name": "LayoutModel",
          "model_module_version": "1.2.0",
          "state": {
            "_view_name": "LayoutView",
            "grid_template_rows": null,
            "right": null,
            "justify_content": null,
            "_view_module": "@jupyter-widgets/base",
            "overflow": null,
            "_model_module_version": "1.2.0",
            "_view_count": null,
            "flex_flow": null,
            "width": null,
            "min_width": null,
            "border": null,
            "align_items": null,
            "bottom": null,
            "_model_module": "@jupyter-widgets/base",
            "top": null,
            "grid_column": null,
            "overflow_y": null,
            "overflow_x": null,
            "grid_auto_flow": null,
            "grid_area": null,
            "grid_template_columns": null,
            "flex": null,
            "_model_name": "LayoutModel",
            "justify_items": null,
            "grid_row": null,
            "max_height": null,
            "align_content": null,
            "visibility": null,
            "align_self": null,
            "height": null,
            "min_height": null,
            "padding": null,
            "grid_auto_rows": null,
            "grid_gap": null,
            "max_width": null,
            "order": null,
            "_view_module_version": "1.2.0",
            "grid_template_areas": null,
            "object_position": null,
            "object_fit": null,
            "grid_auto_columns": null,
            "margin": null,
            "display": null,
            "left": null
          }
        },
        "9b1131d05edc4a69a4d7e512f1f41fed": {
          "model_module": "@jupyter-widgets/controls",
          "model_name": "DescriptionStyleModel",
          "model_module_version": "1.5.0",
          "state": {
            "_view_name": "StyleView",
            "_model_name": "DescriptionStyleModel",
            "description_width": "",
            "_view_module": "@jupyter-widgets/base",
            "_model_module_version": "1.5.0",
            "_view_count": null,
            "_view_module_version": "1.2.0",
            "_model_module": "@jupyter-widgets/controls"
          }
        },
        "ef8dfb823de24c97b41bb9a056e5cc47": {
          "model_module": "@jupyter-widgets/base",
          "model_name": "LayoutModel",
          "model_module_version": "1.2.0",
          "state": {
            "_view_name": "LayoutView",
            "grid_template_rows": null,
            "right": null,
            "justify_content": null,
            "_view_module": "@jupyter-widgets/base",
            "overflow": null,
            "_model_module_version": "1.2.0",
            "_view_count": null,
            "flex_flow": null,
            "width": null,
            "min_width": null,
            "border": null,
            "align_items": null,
            "bottom": null,
            "_model_module": "@jupyter-widgets/base",
            "top": null,
            "grid_column": null,
            "overflow_y": null,
            "overflow_x": null,
            "grid_auto_flow": null,
            "grid_area": null,
            "grid_template_columns": null,
            "flex": null,
            "_model_name": "LayoutModel",
            "justify_items": null,
            "grid_row": null,
            "max_height": null,
            "align_content": null,
            "visibility": null,
            "align_self": null,
            "height": null,
            "min_height": null,
            "padding": null,
            "grid_auto_rows": null,
            "grid_gap": null,
            "max_width": null,
            "order": null,
            "_view_module_version": "1.2.0",
            "grid_template_areas": null,
            "object_position": null,
            "object_fit": null,
            "grid_auto_columns": null,
            "margin": null,
            "display": null,
            "left": null
          }
        },
        "3d6e452ec8534ff2bf2317dd23c1ddf9": {
          "model_module": "@jupyter-widgets/controls",
          "model_name": "HBoxModel",
          "model_module_version": "1.5.0",
          "state": {
            "_view_name": "HBoxView",
            "_dom_classes": [],
            "_model_name": "HBoxModel",
            "_view_module": "@jupyter-widgets/controls",
            "_model_module_version": "1.5.0",
            "_view_count": null,
            "_view_module_version": "1.5.0",
            "box_style": "",
            "layout": "IPY_MODEL_00c6fae7009b4ddab788c92b27f571f6",
            "_model_module": "@jupyter-widgets/controls",
            "children": [
              "IPY_MODEL_9c88c9e6de1f487bb79427d02dda5def",
              "IPY_MODEL_2717e9d8f86c467ba55c2b3a22fd5ab0",
              "IPY_MODEL_bd798bd82ec04555b907b4252504684f"
            ]
          }
        },
        "00c6fae7009b4ddab788c92b27f571f6": {
          "model_module": "@jupyter-widgets/base",
          "model_name": "LayoutModel",
          "model_module_version": "1.2.0",
          "state": {
            "_view_name": "LayoutView",
            "grid_template_rows": null,
            "right": null,
            "justify_content": null,
            "_view_module": "@jupyter-widgets/base",
            "overflow": null,
            "_model_module_version": "1.2.0",
            "_view_count": null,
            "flex_flow": null,
            "width": null,
            "min_width": null,
            "border": null,
            "align_items": null,
            "bottom": null,
            "_model_module": "@jupyter-widgets/base",
            "top": null,
            "grid_column": null,
            "overflow_y": null,
            "overflow_x": null,
            "grid_auto_flow": null,
            "grid_area": null,
            "grid_template_columns": null,
            "flex": null,
            "_model_name": "LayoutModel",
            "justify_items": null,
            "grid_row": null,
            "max_height": null,
            "align_content": null,
            "visibility": null,
            "align_self": null,
            "height": null,
            "min_height": null,
            "padding": null,
            "grid_auto_rows": null,
            "grid_gap": null,
            "max_width": null,
            "order": null,
            "_view_module_version": "1.2.0",
            "grid_template_areas": null,
            "object_position": null,
            "object_fit": null,
            "grid_auto_columns": null,
            "margin": null,
            "display": null,
            "left": null
          }
        },
        "9c88c9e6de1f487bb79427d02dda5def": {
          "model_module": "@jupyter-widgets/controls",
          "model_name": "HTMLModel",
          "model_module_version": "1.5.0",
          "state": {
            "_view_name": "HTMLView",
            "style": "IPY_MODEL_59e2c86c3e9a48e6bd7d161fd11077b7",
            "_dom_classes": [],
            "description": "",
            "_model_name": "HTMLModel",
            "placeholder": "​",
            "_view_module": "@jupyter-widgets/controls",
            "_model_module_version": "1.5.0",
            "value": "Downloading: 100%",
            "_view_count": null,
            "_view_module_version": "1.5.0",
            "description_tooltip": null,
            "_model_module": "@jupyter-widgets/controls",
            "layout": "IPY_MODEL_fdc4e0201f90437db6ea69cb836906fe"
          }
        },
        "2717e9d8f86c467ba55c2b3a22fd5ab0": {
          "model_module": "@jupyter-widgets/controls",
          "model_name": "FloatProgressModel",
          "model_module_version": "1.5.0",
          "state": {
            "_view_name": "ProgressView",
            "style": "IPY_MODEL_55e07fa796244753ba592c34deebcd2e",
            "_dom_classes": [],
            "description": "",
            "_model_name": "FloatProgressModel",
            "bar_style": "success",
            "max": 456318,
            "_view_module": "@jupyter-widgets/controls",
            "_model_module_version": "1.5.0",
            "value": 456318,
            "_view_count": null,
            "_view_module_version": "1.5.0",
            "orientation": "horizontal",
            "min": 0,
            "description_tooltip": null,
            "_model_module": "@jupyter-widgets/controls",
            "layout": "IPY_MODEL_27ff2382bfb846ee93345b29bb5144a9"
          }
        },
        "bd798bd82ec04555b907b4252504684f": {
          "model_module": "@jupyter-widgets/controls",
          "model_name": "HTMLModel",
          "model_module_version": "1.5.0",
          "state": {
            "_view_name": "HTMLView",
            "style": "IPY_MODEL_0c86dbbd1d0e435dadd9055297b69ed0",
            "_dom_classes": [],
            "description": "",
            "_model_name": "HTMLModel",
            "placeholder": "​",
            "_view_module": "@jupyter-widgets/controls",
            "_model_module_version": "1.5.0",
            "value": " 446k/446k [00:00&lt;00:00, 923kB/s]",
            "_view_count": null,
            "_view_module_version": "1.5.0",
            "description_tooltip": null,
            "_model_module": "@jupyter-widgets/controls",
            "layout": "IPY_MODEL_dde580339f3f4f6b83cebaf15c71cbca"
          }
        },
        "59e2c86c3e9a48e6bd7d161fd11077b7": {
          "model_module": "@jupyter-widgets/controls",
          "model_name": "DescriptionStyleModel",
          "model_module_version": "1.5.0",
          "state": {
            "_view_name": "StyleView",
            "_model_name": "DescriptionStyleModel",
            "description_width": "",
            "_view_module": "@jupyter-widgets/base",
            "_model_module_version": "1.5.0",
            "_view_count": null,
            "_view_module_version": "1.2.0",
            "_model_module": "@jupyter-widgets/controls"
          }
        },
        "fdc4e0201f90437db6ea69cb836906fe": {
          "model_module": "@jupyter-widgets/base",
          "model_name": "LayoutModel",
          "model_module_version": "1.2.0",
          "state": {
            "_view_name": "LayoutView",
            "grid_template_rows": null,
            "right": null,
            "justify_content": null,
            "_view_module": "@jupyter-widgets/base",
            "overflow": null,
            "_model_module_version": "1.2.0",
            "_view_count": null,
            "flex_flow": null,
            "width": null,
            "min_width": null,
            "border": null,
            "align_items": null,
            "bottom": null,
            "_model_module": "@jupyter-widgets/base",
            "top": null,
            "grid_column": null,
            "overflow_y": null,
            "overflow_x": null,
            "grid_auto_flow": null,
            "grid_area": null,
            "grid_template_columns": null,
            "flex": null,
            "_model_name": "LayoutModel",
            "justify_items": null,
            "grid_row": null,
            "max_height": null,
            "align_content": null,
            "visibility": null,
            "align_self": null,
            "height": null,
            "min_height": null,
            "padding": null,
            "grid_auto_rows": null,
            "grid_gap": null,
            "max_width": null,
            "order": null,
            "_view_module_version": "1.2.0",
            "grid_template_areas": null,
            "object_position": null,
            "object_fit": null,
            "grid_auto_columns": null,
            "margin": null,
            "display": null,
            "left": null
          }
        },
        "55e07fa796244753ba592c34deebcd2e": {
          "model_module": "@jupyter-widgets/controls",
          "model_name": "ProgressStyleModel",
          "model_module_version": "1.5.0",
          "state": {
            "_view_name": "StyleView",
            "_model_name": "ProgressStyleModel",
            "description_width": "",
            "_view_module": "@jupyter-widgets/base",
            "_model_module_version": "1.5.0",
            "_view_count": null,
            "_view_module_version": "1.2.0",
            "bar_color": null,
            "_model_module": "@jupyter-widgets/controls"
          }
        },
        "27ff2382bfb846ee93345b29bb5144a9": {
          "model_module": "@jupyter-widgets/base",
          "model_name": "LayoutModel",
          "model_module_version": "1.2.0",
          "state": {
            "_view_name": "LayoutView",
            "grid_template_rows": null,
            "right": null,
            "justify_content": null,
            "_view_module": "@jupyter-widgets/base",
            "overflow": null,
            "_model_module_version": "1.2.0",
            "_view_count": null,
            "flex_flow": null,
            "width": null,
            "min_width": null,
            "border": null,
            "align_items": null,
            "bottom": null,
            "_model_module": "@jupyter-widgets/base",
            "top": null,
            "grid_column": null,
            "overflow_y": null,
            "overflow_x": null,
            "grid_auto_flow": null,
            "grid_area": null,
            "grid_template_columns": null,
            "flex": null,
            "_model_name": "LayoutModel",
            "justify_items": null,
            "grid_row": null,
            "max_height": null,
            "align_content": null,
            "visibility": null,
            "align_self": null,
            "height": null,
            "min_height": null,
            "padding": null,
            "grid_auto_rows": null,
            "grid_gap": null,
            "max_width": null,
            "order": null,
            "_view_module_version": "1.2.0",
            "grid_template_areas": null,
            "object_position": null,
            "object_fit": null,
            "grid_auto_columns": null,
            "margin": null,
            "display": null,
            "left": null
          }
        },
        "0c86dbbd1d0e435dadd9055297b69ed0": {
          "model_module": "@jupyter-widgets/controls",
          "model_name": "DescriptionStyleModel",
          "model_module_version": "1.5.0",
          "state": {
            "_view_name": "StyleView",
            "_model_name": "DescriptionStyleModel",
            "description_width": "",
            "_view_module": "@jupyter-widgets/base",
            "_model_module_version": "1.5.0",
            "_view_count": null,
            "_view_module_version": "1.2.0",
            "_model_module": "@jupyter-widgets/controls"
          }
        },
        "dde580339f3f4f6b83cebaf15c71cbca": {
          "model_module": "@jupyter-widgets/base",
          "model_name": "LayoutModel",
          "model_module_version": "1.2.0",
          "state": {
            "_view_name": "LayoutView",
            "grid_template_rows": null,
            "right": null,
            "justify_content": null,
            "_view_module": "@jupyter-widgets/base",
            "overflow": null,
            "_model_module_version": "1.2.0",
            "_view_count": null,
            "flex_flow": null,
            "width": null,
            "min_width": null,
            "border": null,
            "align_items": null,
            "bottom": null,
            "_model_module": "@jupyter-widgets/base",
            "top": null,
            "grid_column": null,
            "overflow_y": null,
            "overflow_x": null,
            "grid_auto_flow": null,
            "grid_area": null,
            "grid_template_columns": null,
            "flex": null,
            "_model_name": "LayoutModel",
            "justify_items": null,
            "grid_row": null,
            "max_height": null,
            "align_content": null,
            "visibility": null,
            "align_self": null,
            "height": null,
            "min_height": null,
            "padding": null,
            "grid_auto_rows": null,
            "grid_gap": null,
            "max_width": null,
            "order": null,
            "_view_module_version": "1.2.0",
            "grid_template_areas": null,
            "object_position": null,
            "object_fit": null,
            "grid_auto_columns": null,
            "margin": null,
            "display": null,
            "left": null
          }
        },
        "fafd142f4ac945b48cb137cde481ecc6": {
          "model_module": "@jupyter-widgets/controls",
          "model_name": "HBoxModel",
          "model_module_version": "1.5.0",
          "state": {
            "_view_name": "HBoxView",
            "_dom_classes": [],
            "_model_name": "HBoxModel",
            "_view_module": "@jupyter-widgets/controls",
            "_model_module_version": "1.5.0",
            "_view_count": null,
            "_view_module_version": "1.5.0",
            "box_style": "",
            "layout": "IPY_MODEL_288dde3bb4fe47a5b102ec9f8d31bdce",
            "_model_module": "@jupyter-widgets/controls",
            "children": [
              "IPY_MODEL_fb90546cb3754707a0743054be506393",
              "IPY_MODEL_5c8a0cc5a40a47cda969d1bdedd45d77",
              "IPY_MODEL_6120f54afd134fa7aaa4b1399f3311bb"
            ]
          }
        },
        "288dde3bb4fe47a5b102ec9f8d31bdce": {
          "model_module": "@jupyter-widgets/base",
          "model_name": "LayoutModel",
          "model_module_version": "1.2.0",
          "state": {
            "_view_name": "LayoutView",
            "grid_template_rows": null,
            "right": null,
            "justify_content": null,
            "_view_module": "@jupyter-widgets/base",
            "overflow": null,
            "_model_module_version": "1.2.0",
            "_view_count": null,
            "flex_flow": null,
            "width": null,
            "min_width": null,
            "border": null,
            "align_items": null,
            "bottom": null,
            "_model_module": "@jupyter-widgets/base",
            "top": null,
            "grid_column": null,
            "overflow_y": null,
            "overflow_x": null,
            "grid_auto_flow": null,
            "grid_area": null,
            "grid_template_columns": null,
            "flex": null,
            "_model_name": "LayoutModel",
            "justify_items": null,
            "grid_row": null,
            "max_height": null,
            "align_content": null,
            "visibility": null,
            "align_self": null,
            "height": null,
            "min_height": null,
            "padding": null,
            "grid_auto_rows": null,
            "grid_gap": null,
            "max_width": null,
            "order": null,
            "_view_module_version": "1.2.0",
            "grid_template_areas": null,
            "object_position": null,
            "object_fit": null,
            "grid_auto_columns": null,
            "margin": null,
            "display": null,
            "left": null
          }
        },
        "fb90546cb3754707a0743054be506393": {
          "model_module": "@jupyter-widgets/controls",
          "model_name": "HTMLModel",
          "model_module_version": "1.5.0",
          "state": {
            "_view_name": "HTMLView",
            "style": "IPY_MODEL_96bcde6ef9424a6c96d8722b2b99510d",
            "_dom_classes": [],
            "description": "",
            "_model_name": "HTMLModel",
            "placeholder": "​",
            "_view_module": "@jupyter-widgets/controls",
            "_model_module_version": "1.5.0",
            "value": "Downloading: 100%",
            "_view_count": null,
            "_view_module_version": "1.5.0",
            "description_tooltip": null,
            "_model_module": "@jupyter-widgets/controls",
            "layout": "IPY_MODEL_930ba91eab48418cb87c89b7080c967c"
          }
        },
        "5c8a0cc5a40a47cda969d1bdedd45d77": {
          "model_module": "@jupyter-widgets/controls",
          "model_name": "FloatProgressModel",
          "model_module_version": "1.5.0",
          "state": {
            "_view_name": "ProgressView",
            "style": "IPY_MODEL_dc9b8c9876f64ff4bb21e903ef717660",
            "_dom_classes": [],
            "description": "",
            "_model_name": "FloatProgressModel",
            "bar_style": "success",
            "max": 1355863,
            "_view_module": "@jupyter-widgets/controls",
            "_model_module_version": "1.5.0",
            "value": 1355863,
            "_view_count": null,
            "_view_module_version": "1.5.0",
            "orientation": "horizontal",
            "min": 0,
            "description_tooltip": null,
            "_model_module": "@jupyter-widgets/controls",
            "layout": "IPY_MODEL_d194a6f12bcc49e9acaa90df800ad8d5"
          }
        },
        "6120f54afd134fa7aaa4b1399f3311bb": {
          "model_module": "@jupyter-widgets/controls",
          "model_name": "HTMLModel",
          "model_module_version": "1.5.0",
          "state": {
            "_view_name": "HTMLView",
            "style": "IPY_MODEL_5f31a50aad954238bd89aa5db1d497ed",
            "_dom_classes": [],
            "description": "",
            "_model_name": "HTMLModel",
            "placeholder": "​",
            "_view_module": "@jupyter-widgets/controls",
            "_model_module_version": "1.5.0",
            "value": " 1.29M/1.29M [00:00&lt;00:00, 3.49MB/s]",
            "_view_count": null,
            "_view_module_version": "1.5.0",
            "description_tooltip": null,
            "_model_module": "@jupyter-widgets/controls",
            "layout": "IPY_MODEL_492e6b8aedc6448d97712627006b3512"
          }
        },
        "96bcde6ef9424a6c96d8722b2b99510d": {
          "model_module": "@jupyter-widgets/controls",
          "model_name": "DescriptionStyleModel",
          "model_module_version": "1.5.0",
          "state": {
            "_view_name": "StyleView",
            "_model_name": "DescriptionStyleModel",
            "description_width": "",
            "_view_module": "@jupyter-widgets/base",
            "_model_module_version": "1.5.0",
            "_view_count": null,
            "_view_module_version": "1.2.0",
            "_model_module": "@jupyter-widgets/controls"
          }
        },
        "930ba91eab48418cb87c89b7080c967c": {
          "model_module": "@jupyter-widgets/base",
          "model_name": "LayoutModel",
          "model_module_version": "1.2.0",
          "state": {
            "_view_name": "LayoutView",
            "grid_template_rows": null,
            "right": null,
            "justify_content": null,
            "_view_module": "@jupyter-widgets/base",
            "overflow": null,
            "_model_module_version": "1.2.0",
            "_view_count": null,
            "flex_flow": null,
            "width": null,
            "min_width": null,
            "border": null,
            "align_items": null,
            "bottom": null,
            "_model_module": "@jupyter-widgets/base",
            "top": null,
            "grid_column": null,
            "overflow_y": null,
            "overflow_x": null,
            "grid_auto_flow": null,
            "grid_area": null,
            "grid_template_columns": null,
            "flex": null,
            "_model_name": "LayoutModel",
            "justify_items": null,
            "grid_row": null,
            "max_height": null,
            "align_content": null,
            "visibility": null,
            "align_self": null,
            "height": null,
            "min_height": null,
            "padding": null,
            "grid_auto_rows": null,
            "grid_gap": null,
            "max_width": null,
            "order": null,
            "_view_module_version": "1.2.0",
            "grid_template_areas": null,
            "object_position": null,
            "object_fit": null,
            "grid_auto_columns": null,
            "margin": null,
            "display": null,
            "left": null
          }
        },
        "dc9b8c9876f64ff4bb21e903ef717660": {
          "model_module": "@jupyter-widgets/controls",
          "model_name": "ProgressStyleModel",
          "model_module_version": "1.5.0",
          "state": {
            "_view_name": "StyleView",
            "_model_name": "ProgressStyleModel",
            "description_width": "",
            "_view_module": "@jupyter-widgets/base",
            "_model_module_version": "1.5.0",
            "_view_count": null,
            "_view_module_version": "1.2.0",
            "bar_color": null,
            "_model_module": "@jupyter-widgets/controls"
          }
        },
        "d194a6f12bcc49e9acaa90df800ad8d5": {
          "model_module": "@jupyter-widgets/base",
          "model_name": "LayoutModel",
          "model_module_version": "1.2.0",
          "state": {
            "_view_name": "LayoutView",
            "grid_template_rows": null,
            "right": null,
            "justify_content": null,
            "_view_module": "@jupyter-widgets/base",
            "overflow": null,
            "_model_module_version": "1.2.0",
            "_view_count": null,
            "flex_flow": null,
            "width": null,
            "min_width": null,
            "border": null,
            "align_items": null,
            "bottom": null,
            "_model_module": "@jupyter-widgets/base",
            "top": null,
            "grid_column": null,
            "overflow_y": null,
            "overflow_x": null,
            "grid_auto_flow": null,
            "grid_area": null,
            "grid_template_columns": null,
            "flex": null,
            "_model_name": "LayoutModel",
            "justify_items": null,
            "grid_row": null,
            "max_height": null,
            "align_content": null,
            "visibility": null,
            "align_self": null,
            "height": null,
            "min_height": null,
            "padding": null,
            "grid_auto_rows": null,
            "grid_gap": null,
            "max_width": null,
            "order": null,
            "_view_module_version": "1.2.0",
            "grid_template_areas": null,
            "object_position": null,
            "object_fit": null,
            "grid_auto_columns": null,
            "margin": null,
            "display": null,
            "left": null
          }
        },
        "5f31a50aad954238bd89aa5db1d497ed": {
          "model_module": "@jupyter-widgets/controls",
          "model_name": "DescriptionStyleModel",
          "model_module_version": "1.5.0",
          "state": {
            "_view_name": "StyleView",
            "_model_name": "DescriptionStyleModel",
            "description_width": "",
            "_view_module": "@jupyter-widgets/base",
            "_model_module_version": "1.5.0",
            "_view_count": null,
            "_view_module_version": "1.2.0",
            "_model_module": "@jupyter-widgets/controls"
          }
        },
        "492e6b8aedc6448d97712627006b3512": {
          "model_module": "@jupyter-widgets/base",
          "model_name": "LayoutModel",
          "model_module_version": "1.2.0",
          "state": {
            "_view_name": "LayoutView",
            "grid_template_rows": null,
            "right": null,
            "justify_content": null,
            "_view_module": "@jupyter-widgets/base",
            "overflow": null,
            "_model_module_version": "1.2.0",
            "_view_count": null,
            "flex_flow": null,
            "width": null,
            "min_width": null,
            "border": null,
            "align_items": null,
            "bottom": null,
            "_model_module": "@jupyter-widgets/base",
            "top": null,
            "grid_column": null,
            "overflow_y": null,
            "overflow_x": null,
            "grid_auto_flow": null,
            "grid_area": null,
            "grid_template_columns": null,
            "flex": null,
            "_model_name": "LayoutModel",
            "justify_items": null,
            "grid_row": null,
            "max_height": null,
            "align_content": null,
            "visibility": null,
            "align_self": null,
            "height": null,
            "min_height": null,
            "padding": null,
            "grid_auto_rows": null,
            "grid_gap": null,
            "max_width": null,
            "order": null,
            "_view_module_version": "1.2.0",
            "grid_template_areas": null,
            "object_position": null,
            "object_fit": null,
            "grid_auto_columns": null,
            "margin": null,
            "display": null,
            "left": null
          }
        },
        "c79e444ac0344837a584f0b126ce57a1": {
          "model_module": "@jupyter-widgets/controls",
          "model_name": "HBoxModel",
          "model_module_version": "1.5.0",
          "state": {
            "_view_name": "HBoxView",
            "_dom_classes": [],
            "_model_name": "HBoxModel",
            "_view_module": "@jupyter-widgets/controls",
            "_model_module_version": "1.5.0",
            "_view_count": null,
            "_view_module_version": "1.5.0",
            "box_style": "",
            "layout": "IPY_MODEL_9067a7c70dd745afb7baef615aab7bcf",
            "_model_module": "@jupyter-widgets/controls",
            "children": [
              "IPY_MODEL_df1469ff82674690a876e9ca8011d57a",
              "IPY_MODEL_58a09f339ee743c9b345b2df7af6eb70",
              "IPY_MODEL_d62935eec20b4aeb9bbf92c3188c9836"
            ]
          }
        },
        "9067a7c70dd745afb7baef615aab7bcf": {
          "model_module": "@jupyter-widgets/base",
          "model_name": "LayoutModel",
          "model_module_version": "1.2.0",
          "state": {
            "_view_name": "LayoutView",
            "grid_template_rows": null,
            "right": null,
            "justify_content": null,
            "_view_module": "@jupyter-widgets/base",
            "overflow": null,
            "_model_module_version": "1.2.0",
            "_view_count": null,
            "flex_flow": null,
            "width": null,
            "min_width": null,
            "border": null,
            "align_items": null,
            "bottom": null,
            "_model_module": "@jupyter-widgets/base",
            "top": null,
            "grid_column": null,
            "overflow_y": null,
            "overflow_x": null,
            "grid_auto_flow": null,
            "grid_area": null,
            "grid_template_columns": null,
            "flex": null,
            "_model_name": "LayoutModel",
            "justify_items": null,
            "grid_row": null,
            "max_height": null,
            "align_content": null,
            "visibility": null,
            "align_self": null,
            "height": null,
            "min_height": null,
            "padding": null,
            "grid_auto_rows": null,
            "grid_gap": null,
            "max_width": null,
            "order": null,
            "_view_module_version": "1.2.0",
            "grid_template_areas": null,
            "object_position": null,
            "object_fit": null,
            "grid_auto_columns": null,
            "margin": null,
            "display": null,
            "left": null
          }
        },
        "df1469ff82674690a876e9ca8011d57a": {
          "model_module": "@jupyter-widgets/controls",
          "model_name": "HTMLModel",
          "model_module_version": "1.5.0",
          "state": {
            "_view_name": "HTMLView",
            "style": "IPY_MODEL_77a8062c47ec4f568db7d78d2c600571",
            "_dom_classes": [],
            "description": "",
            "_model_name": "HTMLModel",
            "placeholder": "​",
            "_view_module": "@jupyter-widgets/controls",
            "_model_module_version": "1.5.0",
            "value": "Downloading: 100%",
            "_view_count": null,
            "_view_module_version": "1.5.0",
            "description_tooltip": null,
            "_model_module": "@jupyter-widgets/controls",
            "layout": "IPY_MODEL_071e251d4dd7446a81b6ff3adb8ad313"
          }
        },
        "58a09f339ee743c9b345b2df7af6eb70": {
          "model_module": "@jupyter-widgets/controls",
          "model_name": "FloatProgressModel",
          "model_module_version": "1.5.0",
          "state": {
            "_view_name": "ProgressView",
            "style": "IPY_MODEL_1c02d93baab64b939e0e0c15edbd03d4",
            "_dom_classes": [],
            "description": "",
            "_model_name": "FloatProgressModel",
            "bar_style": "success",
            "max": 1585,
            "_view_module": "@jupyter-widgets/controls",
            "_model_module_version": "1.5.0",
            "value": 1585,
            "_view_count": null,
            "_view_module_version": "1.5.0",
            "orientation": "horizontal",
            "min": 0,
            "description_tooltip": null,
            "_model_module": "@jupyter-widgets/controls",
            "layout": "IPY_MODEL_87897f7f451b4b2d9a68971037f4d8a7"
          }
        },
        "d62935eec20b4aeb9bbf92c3188c9836": {
          "model_module": "@jupyter-widgets/controls",
          "model_name": "HTMLModel",
          "model_module_version": "1.5.0",
          "state": {
            "_view_name": "HTMLView",
            "style": "IPY_MODEL_30f20b04f51744bcbc8514e681dd6110",
            "_dom_classes": [],
            "description": "",
            "_model_name": "HTMLModel",
            "placeholder": "​",
            "_view_module": "@jupyter-widgets/controls",
            "_model_module_version": "1.5.0",
            "value": " 1.55k/1.55k [00:00&lt;00:00, 39.6kB/s]",
            "_view_count": null,
            "_view_module_version": "1.5.0",
            "description_tooltip": null,
            "_model_module": "@jupyter-widgets/controls",
            "layout": "IPY_MODEL_f24c958e68cb45e4a186095740b984e0"
          }
        },
        "77a8062c47ec4f568db7d78d2c600571": {
          "model_module": "@jupyter-widgets/controls",
          "model_name": "DescriptionStyleModel",
          "model_module_version": "1.5.0",
          "state": {
            "_view_name": "StyleView",
            "_model_name": "DescriptionStyleModel",
            "description_width": "",
            "_view_module": "@jupyter-widgets/base",
            "_model_module_version": "1.5.0",
            "_view_count": null,
            "_view_module_version": "1.2.0",
            "_model_module": "@jupyter-widgets/controls"
          }
        },
        "071e251d4dd7446a81b6ff3adb8ad313": {
          "model_module": "@jupyter-widgets/base",
          "model_name": "LayoutModel",
          "model_module_version": "1.2.0",
          "state": {
            "_view_name": "LayoutView",
            "grid_template_rows": null,
            "right": null,
            "justify_content": null,
            "_view_module": "@jupyter-widgets/base",
            "overflow": null,
            "_model_module_version": "1.2.0",
            "_view_count": null,
            "flex_flow": null,
            "width": null,
            "min_width": null,
            "border": null,
            "align_items": null,
            "bottom": null,
            "_model_module": "@jupyter-widgets/base",
            "top": null,
            "grid_column": null,
            "overflow_y": null,
            "overflow_x": null,
            "grid_auto_flow": null,
            "grid_area": null,
            "grid_template_columns": null,
            "flex": null,
            "_model_name": "LayoutModel",
            "justify_items": null,
            "grid_row": null,
            "max_height": null,
            "align_content": null,
            "visibility": null,
            "align_self": null,
            "height": null,
            "min_height": null,
            "padding": null,
            "grid_auto_rows": null,
            "grid_gap": null,
            "max_width": null,
            "order": null,
            "_view_module_version": "1.2.0",
            "grid_template_areas": null,
            "object_position": null,
            "object_fit": null,
            "grid_auto_columns": null,
            "margin": null,
            "display": null,
            "left": null
          }
        },
        "1c02d93baab64b939e0e0c15edbd03d4": {
          "model_module": "@jupyter-widgets/controls",
          "model_name": "ProgressStyleModel",
          "model_module_version": "1.5.0",
          "state": {
            "_view_name": "StyleView",
            "_model_name": "ProgressStyleModel",
            "description_width": "",
            "_view_module": "@jupyter-widgets/base",
            "_model_module_version": "1.5.0",
            "_view_count": null,
            "_view_module_version": "1.2.0",
            "bar_color": null,
            "_model_module": "@jupyter-widgets/controls"
          }
        },
        "87897f7f451b4b2d9a68971037f4d8a7": {
          "model_module": "@jupyter-widgets/base",
          "model_name": "LayoutModel",
          "model_module_version": "1.2.0",
          "state": {
            "_view_name": "LayoutView",
            "grid_template_rows": null,
            "right": null,
            "justify_content": null,
            "_view_module": "@jupyter-widgets/base",
            "overflow": null,
            "_model_module_version": "1.2.0",
            "_view_count": null,
            "flex_flow": null,
            "width": null,
            "min_width": null,
            "border": null,
            "align_items": null,
            "bottom": null,
            "_model_module": "@jupyter-widgets/base",
            "top": null,
            "grid_column": null,
            "overflow_y": null,
            "overflow_x": null,
            "grid_auto_flow": null,
            "grid_area": null,
            "grid_template_columns": null,
            "flex": null,
            "_model_name": "LayoutModel",
            "justify_items": null,
            "grid_row": null,
            "max_height": null,
            "align_content": null,
            "visibility": null,
            "align_self": null,
            "height": null,
            "min_height": null,
            "padding": null,
            "grid_auto_rows": null,
            "grid_gap": null,
            "max_width": null,
            "order": null,
            "_view_module_version": "1.2.0",
            "grid_template_areas": null,
            "object_position": null,
            "object_fit": null,
            "grid_auto_columns": null,
            "margin": null,
            "display": null,
            "left": null
          }
        },
        "30f20b04f51744bcbc8514e681dd6110": {
          "model_module": "@jupyter-widgets/controls",
          "model_name": "DescriptionStyleModel",
          "model_module_version": "1.5.0",
          "state": {
            "_view_name": "StyleView",
            "_model_name": "DescriptionStyleModel",
            "description_width": "",
            "_view_module": "@jupyter-widgets/base",
            "_model_module_version": "1.5.0",
            "_view_count": null,
            "_view_module_version": "1.2.0",
            "_model_module": "@jupyter-widgets/controls"
          }
        },
        "f24c958e68cb45e4a186095740b984e0": {
          "model_module": "@jupyter-widgets/base",
          "model_name": "LayoutModel",
          "model_module_version": "1.2.0",
          "state": {
            "_view_name": "LayoutView",
            "grid_template_rows": null,
            "right": null,
            "justify_content": null,
            "_view_module": "@jupyter-widgets/base",
            "overflow": null,
            "_model_module_version": "1.2.0",
            "_view_count": null,
            "flex_flow": null,
            "width": null,
            "min_width": null,
            "border": null,
            "align_items": null,
            "bottom": null,
            "_model_module": "@jupyter-widgets/base",
            "top": null,
            "grid_column": null,
            "overflow_y": null,
            "overflow_x": null,
            "grid_auto_flow": null,
            "grid_area": null,
            "grid_template_columns": null,
            "flex": null,
            "_model_name": "LayoutModel",
            "justify_items": null,
            "grid_row": null,
            "max_height": null,
            "align_content": null,
            "visibility": null,
            "align_self": null,
            "height": null,
            "min_height": null,
            "padding": null,
            "grid_auto_rows": null,
            "grid_gap": null,
            "max_width": null,
            "order": null,
            "_view_module_version": "1.2.0",
            "grid_template_areas": null,
            "object_position": null,
            "object_fit": null,
            "grid_auto_columns": null,
            "margin": null,
            "display": null,
            "left": null
          }
        },
        "48dfe73230004a01a13c556db228673e": {
          "model_module": "@jupyter-widgets/controls",
          "model_name": "HBoxModel",
          "model_module_version": "1.5.0",
          "state": {
            "_view_name": "HBoxView",
            "_dom_classes": [],
            "_model_name": "HBoxModel",
            "_view_module": "@jupyter-widgets/controls",
            "_model_module_version": "1.5.0",
            "_view_count": null,
            "_view_module_version": "1.5.0",
            "box_style": "",
            "layout": "IPY_MODEL_4d34c09d37914c978c5af157ab2c5156",
            "_model_module": "@jupyter-widgets/controls",
            "children": [
              "IPY_MODEL_e40e3c1ed36b4d708d806de91e327f4c",
              "IPY_MODEL_b2c69f9f91114335a2dace591822be18",
              "IPY_MODEL_df3bf121a7e34fc3925c16719eb97f70"
            ]
          }
        },
        "4d34c09d37914c978c5af157ab2c5156": {
          "model_module": "@jupyter-widgets/base",
          "model_name": "LayoutModel",
          "model_module_version": "1.2.0",
          "state": {
            "_view_name": "LayoutView",
            "grid_template_rows": null,
            "right": null,
            "justify_content": null,
            "_view_module": "@jupyter-widgets/base",
            "overflow": null,
            "_model_module_version": "1.2.0",
            "_view_count": null,
            "flex_flow": null,
            "width": null,
            "min_width": null,
            "border": null,
            "align_items": null,
            "bottom": null,
            "_model_module": "@jupyter-widgets/base",
            "top": null,
            "grid_column": null,
            "overflow_y": null,
            "overflow_x": null,
            "grid_auto_flow": null,
            "grid_area": null,
            "grid_template_columns": null,
            "flex": null,
            "_model_name": "LayoutModel",
            "justify_items": null,
            "grid_row": null,
            "max_height": null,
            "align_content": null,
            "visibility": null,
            "align_self": null,
            "height": null,
            "min_height": null,
            "padding": null,
            "grid_auto_rows": null,
            "grid_gap": null,
            "max_width": null,
            "order": null,
            "_view_module_version": "1.2.0",
            "grid_template_areas": null,
            "object_position": null,
            "object_fit": null,
            "grid_auto_columns": null,
            "margin": null,
            "display": null,
            "left": null
          }
        },
        "e40e3c1ed36b4d708d806de91e327f4c": {
          "model_module": "@jupyter-widgets/controls",
          "model_name": "HTMLModel",
          "model_module_version": "1.5.0",
          "state": {
            "_view_name": "HTMLView",
            "style": "IPY_MODEL_5d9afc2ef8114c40a3541006e9c3bae6",
            "_dom_classes": [],
            "description": "",
            "_model_name": "HTMLModel",
            "placeholder": "​",
            "_view_module": "@jupyter-widgets/controls",
            "_model_module_version": "1.5.0",
            "value": "Downloading: 100%",
            "_view_count": null,
            "_view_module_version": "1.5.0",
            "description_tooltip": null,
            "_model_module": "@jupyter-widgets/controls",
            "layout": "IPY_MODEL_5187aa8356d64c8b8ad2c9e1b21ad865"
          }
        },
        "b2c69f9f91114335a2dace591822be18": {
          "model_module": "@jupyter-widgets/controls",
          "model_name": "FloatProgressModel",
          "model_module_version": "1.5.0",
          "state": {
            "_view_name": "ProgressView",
            "style": "IPY_MODEL_339a38e2bc304124914c0d8cd79c4742",
            "_dom_classes": [],
            "description": "",
            "_model_name": "FloatProgressModel",
            "bar_style": "success",
            "max": 1625270765,
            "_view_module": "@jupyter-widgets/controls",
            "_model_module_version": "1.5.0",
            "value": 1625270765,
            "_view_count": null,
            "_view_module_version": "1.5.0",
            "orientation": "horizontal",
            "min": 0,
            "description_tooltip": null,
            "_model_module": "@jupyter-widgets/controls",
            "layout": "IPY_MODEL_bc02a2e0316342719ea0614421207b82"
          }
        },
        "df3bf121a7e34fc3925c16719eb97f70": {
          "model_module": "@jupyter-widgets/controls",
          "model_name": "HTMLModel",
          "model_module_version": "1.5.0",
          "state": {
            "_view_name": "HTMLView",
            "style": "IPY_MODEL_ebdf5b3003ba49aab6502f4d24ace77c",
            "_dom_classes": [],
            "description": "",
            "_model_name": "HTMLModel",
            "placeholder": "​",
            "_view_module": "@jupyter-widgets/controls",
            "_model_module_version": "1.5.0",
            "value": " 1.51G/1.51G [00:35&lt;00:00, 44.0MB/s]",
            "_view_count": null,
            "_view_module_version": "1.5.0",
            "description_tooltip": null,
            "_model_module": "@jupyter-widgets/controls",
            "layout": "IPY_MODEL_c8dbaf0b0d96435398f157368f414712"
          }
        },
        "5d9afc2ef8114c40a3541006e9c3bae6": {
          "model_module": "@jupyter-widgets/controls",
          "model_name": "DescriptionStyleModel",
          "model_module_version": "1.5.0",
          "state": {
            "_view_name": "StyleView",
            "_model_name": "DescriptionStyleModel",
            "description_width": "",
            "_view_module": "@jupyter-widgets/base",
            "_model_module_version": "1.5.0",
            "_view_count": null,
            "_view_module_version": "1.2.0",
            "_model_module": "@jupyter-widgets/controls"
          }
        },
        "5187aa8356d64c8b8ad2c9e1b21ad865": {
          "model_module": "@jupyter-widgets/base",
          "model_name": "LayoutModel",
          "model_module_version": "1.2.0",
          "state": {
            "_view_name": "LayoutView",
            "grid_template_rows": null,
            "right": null,
            "justify_content": null,
            "_view_module": "@jupyter-widgets/base",
            "overflow": null,
            "_model_module_version": "1.2.0",
            "_view_count": null,
            "flex_flow": null,
            "width": null,
            "min_width": null,
            "border": null,
            "align_items": null,
            "bottom": null,
            "_model_module": "@jupyter-widgets/base",
            "top": null,
            "grid_column": null,
            "overflow_y": null,
            "overflow_x": null,
            "grid_auto_flow": null,
            "grid_area": null,
            "grid_template_columns": null,
            "flex": null,
            "_model_name": "LayoutModel",
            "justify_items": null,
            "grid_row": null,
            "max_height": null,
            "align_content": null,
            "visibility": null,
            "align_self": null,
            "height": null,
            "min_height": null,
            "padding": null,
            "grid_auto_rows": null,
            "grid_gap": null,
            "max_width": null,
            "order": null,
            "_view_module_version": "1.2.0",
            "grid_template_areas": null,
            "object_position": null,
            "object_fit": null,
            "grid_auto_columns": null,
            "margin": null,
            "display": null,
            "left": null
          }
        },
        "339a38e2bc304124914c0d8cd79c4742": {
          "model_module": "@jupyter-widgets/controls",
          "model_name": "ProgressStyleModel",
          "model_module_version": "1.5.0",
          "state": {
            "_view_name": "StyleView",
            "_model_name": "ProgressStyleModel",
            "description_width": "",
            "_view_module": "@jupyter-widgets/base",
            "_model_module_version": "1.5.0",
            "_view_count": null,
            "_view_module_version": "1.2.0",
            "bar_color": null,
            "_model_module": "@jupyter-widgets/controls"
          }
        },
        "bc02a2e0316342719ea0614421207b82": {
          "model_module": "@jupyter-widgets/base",
          "model_name": "LayoutModel",
          "model_module_version": "1.2.0",
          "state": {
            "_view_name": "LayoutView",
            "grid_template_rows": null,
            "right": null,
            "justify_content": null,
            "_view_module": "@jupyter-widgets/base",
            "overflow": null,
            "_model_module_version": "1.2.0",
            "_view_count": null,
            "flex_flow": null,
            "width": null,
            "min_width": null,
            "border": null,
            "align_items": null,
            "bottom": null,
            "_model_module": "@jupyter-widgets/base",
            "top": null,
            "grid_column": null,
            "overflow_y": null,
            "overflow_x": null,
            "grid_auto_flow": null,
            "grid_area": null,
            "grid_template_columns": null,
            "flex": null,
            "_model_name": "LayoutModel",
            "justify_items": null,
            "grid_row": null,
            "max_height": null,
            "align_content": null,
            "visibility": null,
            "align_self": null,
            "height": null,
            "min_height": null,
            "padding": null,
            "grid_auto_rows": null,
            "grid_gap": null,
            "max_width": null,
            "order": null,
            "_view_module_version": "1.2.0",
            "grid_template_areas": null,
            "object_position": null,
            "object_fit": null,
            "grid_auto_columns": null,
            "margin": null,
            "display": null,
            "left": null
          }
        },
        "ebdf5b3003ba49aab6502f4d24ace77c": {
          "model_module": "@jupyter-widgets/controls",
          "model_name": "DescriptionStyleModel",
          "model_module_version": "1.5.0",
          "state": {
            "_view_name": "StyleView",
            "_model_name": "DescriptionStyleModel",
            "description_width": "",
            "_view_module": "@jupyter-widgets/base",
            "_model_module_version": "1.5.0",
            "_view_count": null,
            "_view_module_version": "1.2.0",
            "_model_module": "@jupyter-widgets/controls"
          }
        },
        "c8dbaf0b0d96435398f157368f414712": {
          "model_module": "@jupyter-widgets/base",
          "model_name": "LayoutModel",
          "model_module_version": "1.2.0",
          "state": {
            "_view_name": "LayoutView",
            "grid_template_rows": null,
            "right": null,
            "justify_content": null,
            "_view_module": "@jupyter-widgets/base",
            "overflow": null,
            "_model_module_version": "1.2.0",
            "_view_count": null,
            "flex_flow": null,
            "width": null,
            "min_width": null,
            "border": null,
            "align_items": null,
            "bottom": null,
            "_model_module": "@jupyter-widgets/base",
            "top": null,
            "grid_column": null,
            "overflow_y": null,
            "overflow_x": null,
            "grid_auto_flow": null,
            "grid_area": null,
            "grid_template_columns": null,
            "flex": null,
            "_model_name": "LayoutModel",
            "justify_items": null,
            "grid_row": null,
            "max_height": null,
            "align_content": null,
            "visibility": null,
            "align_self": null,
            "height": null,
            "min_height": null,
            "padding": null,
            "grid_auto_rows": null,
            "grid_gap": null,
            "max_width": null,
            "order": null,
            "_view_module_version": "1.2.0",
            "grid_template_areas": null,
            "object_position": null,
            "object_fit": null,
            "grid_auto_columns": null,
            "margin": null,
            "display": null,
            "left": null
          }
        }
      }
    }
  },
  "cells": [
    {
      "cell_type": "markdown",
      "metadata": {
        "id": "view-in-github",
        "colab_type": "text"
      },
      "source": [
        "<a href=\"https://colab.research.google.com/github/Jojo666/TextSummarization/blob/main/2Textsummarization.ipynb\" target=\"_parent\"><img src=\"https://colab.research.google.com/assets/colab-badge.svg\" alt=\"Open In Colab\"/></a>"
      ]
    },
    {
      "cell_type": "code",
      "execution_count": null,
      "metadata": {
        "id": "BdWSVDTMlQkz"
      },
      "outputs": [],
      "source": [
        ""
      ]
    },
    {
      "cell_type": "code",
      "source": [
        "from google.colab import drive\n",
        "drive.mount('/content/drive')"
      ],
      "metadata": {
        "colab": {
          "base_uri": "https://localhost:8080/"
        },
        "id": "2TbIPc-SlXM0",
        "outputId": "d7973dfc-17d8-45ca-eea5-c9162972ab7b"
      },
      "execution_count": 1,
      "outputs": [
        {
          "output_type": "stream",
          "name": "stdout",
          "text": [
            "Mounted at /content/drive\n"
          ]
        }
      ]
    },
    {
      "cell_type": "code",
      "source": [
        "path='/content/drive/MyDrive/BusinessIntelligence_Python/odsc_pythonwebs/llongs1.txt'"
      ],
      "metadata": {
        "id": "7Hp7Fre8lXP8"
      },
      "execution_count": 2,
      "outputs": []
    },
    {
      "cell_type": "code",
      "source": [
        "with open(path, 'r') as f: \n",
        "    print(f.read())"
      ],
      "metadata": {
        "colab": {
          "base_uri": "https://localhost:8080/"
        },
        "id": "oD3seSIllXWV",
        "outputId": "0eb30391-bc5f-4c6e-c90b-50ab27331fdb"
      },
      "execution_count": 3,
      "outputs": [
        {
          "output_type": "stream",
          "name": "stdout",
          "text": [
            "My research will develop data-centric and generalisable measures to quantify the embedded historical deforestation within the UK’s supply chains, in terms of the agricultural commodities imported from SAMSEA countries. While my research will specifically focus on the UK’s agricultural commodity supply chains from SAMSEA countries, the techniques I develop will be applicable to both agricultural and non-agricultural supply chains of the UK and other OECD (and rapidly developing) countries from different tropical biomes. \n",
            "The proposed research is based on a fundamentally new premise- to study the different tropical forest ecosystems as human-modified social-ecological systems by explicitly accounting for different types of tree cover transitions (forest alteration, deforestation, agroforestation and monoculture creation) 42 at a multi-decadal scale across two vastly different tropical biomes. While similar studies have been conducted by, notably the use of different optical and radar datasets for distinguishing between cashew plantations and human-modified regenerating forests (of different ages) in Cambodia 43 and between rubber, oil palm plantations and natural forests in Indonesia 44, these are limited temporally and spatially. Through my research, I will develop biome-scale standardisable measures to identify natural forests and forest cover transitions consistently from the 1970s to the present. This will enable the different conservation stakeholders to both identify the evolution of monoculture plantations and develop data-driven spectrally verifiable measures to differentiate natural forests (including heavily degraded forests) from plantation monocultures at different spatial-temporal scales. Monitoring forest cover (and its changes) using EO data continues to remain a significant challenge for practical conservation management on the ground owing to ambiguity in the term ‘forest’ 45. Owing to the lack of a standardisable forest cover baseline (relevant across different tropical biomes) it is difficult to quantify the magnitude of forest loss (especially at a multi-decadal scale) and in many jurisdictions, agribusinesses are able to clear primary forests for their plantations and claim the plantations were created on abandoned agricultural land. My research will contribute to the development of a globally-relevant unambiguous definition of forest/non-forest as recommended by Sexton et al. 45 which will go a long way in both getting an accurate measure of the deforestation embodied in common agricultural imports and identification of drivers of forest cover change to support the development of targeted conservation strategies along with helping UK meet its international obligations. Earth Observation (EO) data analysis such as the one proposed in this research is increasingly being accepted as vital to helping the fulfilment of Sustainable Development Goals (SDG). My research will contribute to meeting target 2 of the SDG goal 15 which calls for the implementation of sustainable management of all forest types and the restoration of degraded forests, target 3 (land degradation-free world) and target 5 (which calls for habitat preservation, halting biodiversity loss and preventing the extinction of threatened species) 47. In addition to SDG 15, my research can contribute to the UK fulfilling its Aichi biodiversity target obligations, especially strategic goal B (‘Reduce the direct pressures on biodiversity and promote sustainable use’). \n",
            "\n",
            "My research is centred on bringing together the disparate worlds of AI and EO by implementing deep learning models of dense multi-temporal EO data. Through my research I will operationalise large scale AI4EO applications by incorporating publicly available EO data and develop reproducible workflows for generating clean datasets, pre-processing, model training and deployment.  I will be extensively using the Google cloud computing ecosystem both for model training and deployment with the view of building scalable AI models that can be both used and adapted by end-users.  While this large-scale model deployment offers many opportunities, it is also a challenging endeavour. Some of these challenges include model scalability, constraints on computational resource usage and ultimately deploying the results in a manner that is accessible by all stakeholders and the public. Overcoming each of these challenges is going to push the boundaries of cloud computing, deep learning, model scalability and visualisations and thus contribute to a greater understanding of building deployable planetary scale deep learning driven EO models. My research aligns with the priorities of the European Space Agencies (ESA)’s AI4EO program by rapidly prototyping new AI4EO applications, including tools (open software libraries), clean quality controlled training data sets, computing power (e.g. GPU processing on-demand. \n",
            "I have an ongoing collaboration with the Technical University of Munich (TUM) and I will liaise with researchers at both TUM and DLR (the German Aerospace Agency) to improve the generalisability and utility of my AI models along with keeping this part of the research broadly aligned with AI4EO’s overarching research vision. \n",
            "\n",
            "Blockchain is capable of transforming food systems, but this can only be fully realised through global development and agreement on suitable data standards and governance. It is possible to have a situation in which agribusinesses provide only limited information and even obscure data on commodity sourcing and yet claim to be sustainable or obtain third-party certification without having standard transparency norms. By establishing minimum data reporting standards required from the different stakeholders needed for agricultural commodity sourcing provenance, my research will provide a tangible pathway to establishing the key data elements (KDE) needed for the blockchain to accurately help establish the deforestation footprint of the target commodities. Additionally, while the internet of things (IoT) technology has been extensively used within agricultural supply blockchain applications, to the best of my knowledge, no agriculture blockchain applications have incorporated landscape scale earth observation data for establishing agricultural commodity provenance. As seen in the United Cacao case in which scientists used temporal Landsat data to call out the agri-businesses sustainability claims and attribute primary forest deforestation in the Peruvian Amazon to their cacao plantation , temporal Landsat data is vital for identifying agricultural commodity origins,  associated deforestation footprints and routing out bad faith actors. My research will develop both conceptual frameworks and minimum viable blockchain protocols for incorporating biome scale EO data for both identifying commodity origins and its impacts (in terms of deforestation in this instance). Geospatial blockchains, blockchain frameworks with immutable geospatial technology incorporated can support sustainable agriculture 55. However, geospatial blockchains that incorporate EO data are yet to be operationalised. My research will help create a pathway for using geospatial blockchain for sustainability applications and consistently establishing commodity provenance. In addition to the contribution to the academic body of knowledge, this part of my research will foster greater research cooperation between UK and EU and non-EU organisations as I will be collaborating both with Satelligence (Netherlands) and Dr Muthu (Griffith University, Australia) for this part of my research. Through my collaboration with Dr M I will be well-positioned to develop robust conceptual frameworks and protocols for meaningfully incorporating geospatial insights within the different blockchain frameworks. My research offers an excellent potential to develop collaborative links between both academic and industry stakeholders and develop research linkages with both the EU and non-EU partners.\n",
            "\n",
            "\n"
          ]
        }
      ]
    },
    {
      "cell_type": "code",
      "source": [
        ""
      ],
      "metadata": {
        "id": "FS3eBZkslXZe"
      },
      "execution_count": null,
      "outputs": []
    },
    {
      "cell_type": "markdown",
      "source": [
        "In order to process the file"
      ],
      "metadata": {
        "id": "0jvYTY2J22tP"
      }
    },
    {
      "cell_type": "code",
      "source": [
        "get_summary=open('/content/drive/MyDrive/BusinessIntelligence_Python/odsc_pythonwebs/llongs1.txt','r').read()"
      ],
      "metadata": {
        "id": "ocxMyoe8lXc6"
      },
      "execution_count": 2,
      "outputs": []
    },
    {
      "cell_type": "code",
      "source": [
        "print(get_summary)"
      ],
      "metadata": {
        "colab": {
          "base_uri": "https://localhost:8080/"
        },
        "id": "DxWPOaDrlXgj",
        "outputId": "ac2c289e-8f09-45ad-fec4-29cfeed27395"
      },
      "execution_count": 5,
      "outputs": [
        {
          "output_type": "stream",
          "name": "stdout",
          "text": [
            "My research will develop data-centric and generalisable measures to quantify the embedded historical deforestation within the UK’s supply chains, in terms of the agricultural commodities imported from SAMSEA countries. While my research will specifically focus on the UK’s agricultural commodity supply chains from SAMSEA countries, the techniques I develop will be applicable to both agricultural and non-agricultural supply chains of the UK and other OECD (and rapidly developing) countries from different tropical biomes. \n",
            "The proposed research is based on a fundamentally new premise- to study the different tropical forest ecosystems as human-modified social-ecological systems by explicitly accounting for different types of tree cover transitions (forest alteration, deforestation, agroforestation and monoculture creation) 42 at a multi-decadal scale across two vastly different tropical biomes. While similar studies have been conducted by, notably the use of different optical and radar datasets for distinguishing between cashew plantations and human-modified regenerating forests (of different ages) in Cambodia 43 and between rubber, oil palm plantations and natural forests in Indonesia 44, these are limited temporally and spatially. Through my research, I will develop biome-scale standardisable measures to identify natural forests and forest cover transitions consistently from the 1970s to the present. This will enable the different conservation stakeholders to both identify the evolution of monoculture plantations and develop data-driven spectrally verifiable measures to differentiate natural forests (including heavily degraded forests) from plantation monocultures at different spatial-temporal scales. Monitoring forest cover (and its changes) using EO data continues to remain a significant challenge for practical conservation management on the ground owing to ambiguity in the term ‘forest’ 45. Owing to the lack of a standardisable forest cover baseline (relevant across different tropical biomes) it is difficult to quantify the magnitude of forest loss (especially at a multi-decadal scale) and in many jurisdictions, agribusinesses are able to clear primary forests for their plantations and claim the plantations were created on abandoned agricultural land. My research will contribute to the development of a globally-relevant unambiguous definition of forest/non-forest as recommended by Sexton et al. 45 which will go a long way in both getting an accurate measure of the deforestation embodied in common agricultural imports and identification of drivers of forest cover change to support the development of targeted conservation strategies along with helping UK meet its international obligations. Earth Observation (EO) data analysis such as the one proposed in this research is increasingly being accepted as vital to helping the fulfilment of Sustainable Development Goals (SDG). My research will contribute to meeting target 2 of the SDG goal 15 which calls for the implementation of sustainable management of all forest types and the restoration of degraded forests, target 3 (land degradation-free world) and target 5 (which calls for habitat preservation, halting biodiversity loss and preventing the extinction of threatened species) 47. In addition to SDG 15, my research can contribute to the UK fulfilling its Aichi biodiversity target obligations, especially strategic goal B (‘Reduce the direct pressures on biodiversity and promote sustainable use’). \n",
            "\n",
            "My research is centred on bringing together the disparate worlds of AI and EO by implementing deep learning models of dense multi-temporal EO data. Through my research I will operationalise large scale AI4EO applications by incorporating publicly available EO data and develop reproducible workflows for generating clean datasets, pre-processing, model training and deployment.  I will be extensively using the Google cloud computing ecosystem both for model training and deployment with the view of building scalable AI models that can be both used and adapted by end-users.  While this large-scale model deployment offers many opportunities, it is also a challenging endeavour. Some of these challenges include model scalability, constraints on computational resource usage and ultimately deploying the results in a manner that is accessible by all stakeholders and the public. Overcoming each of these challenges is going to push the boundaries of cloud computing, deep learning, model scalability and visualisations and thus contribute to a greater understanding of building deployable planetary scale deep learning driven EO models. My research aligns with the priorities of the European Space Agencies (ESA)’s AI4EO program by rapidly prototyping new AI4EO applications, including tools (open software libraries), clean quality controlled training data sets, computing power (e.g. GPU processing on-demand. \n",
            "I have an ongoing collaboration with the Technical University of Munich (TUM) and I will liaise with researchers at both TUM and DLR (the German Aerospace Agency) to improve the generalisability and utility of my AI models along with keeping this part of the research broadly aligned with AI4EO’s overarching research vision. \n",
            "\n",
            "Blockchain is capable of transforming food systems, but this can only be fully realised through global development and agreement on suitable data standards and governance. It is possible to have a situation in which agribusinesses provide only limited information and even obscure data on commodity sourcing and yet claim to be sustainable or obtain third-party certification without having standard transparency norms. By establishing minimum data reporting standards required from the different stakeholders needed for agricultural commodity sourcing provenance, my research will provide a tangible pathway to establishing the key data elements (KDE) needed for the blockchain to accurately help establish the deforestation footprint of the target commodities. Additionally, while the internet of things (IoT) technology has been extensively used within agricultural supply blockchain applications, to the best of my knowledge, no agriculture blockchain applications have incorporated landscape scale earth observation data for establishing agricultural commodity provenance. As seen in the United Cacao case in which scientists used temporal Landsat data to call out the agri-businesses sustainability claims and attribute primary forest deforestation in the Peruvian Amazon to their cacao plantation , temporal Landsat data is vital for identifying agricultural commodity origins,  associated deforestation footprints and routing out bad faith actors. My research will develop both conceptual frameworks and minimum viable blockchain protocols for incorporating biome scale EO data for both identifying commodity origins and its impacts (in terms of deforestation in this instance). Geospatial blockchains, blockchain frameworks with immutable geospatial technology incorporated can support sustainable agriculture 55. However, geospatial blockchains that incorporate EO data are yet to be operationalised. My research will help create a pathway for using geospatial blockchain for sustainability applications and consistently establishing commodity provenance. In addition to the contribution to the academic body of knowledge, this part of my research will foster greater research cooperation between UK and EU and non-EU organisations as I will be collaborating both with Satelligence (Netherlands) and Dr Muthu (Griffith University, Australia) for this part of my research. Through my collaboration with Dr M I will be well-positioned to develop robust conceptual frameworks and protocols for meaningfully incorporating geospatial insights within the different blockchain frameworks. My research offers an excellent potential to develop collaborative links between both academic and industry stakeholders and develop research linkages with both the EU and non-EU partners.\n",
            "\n",
            "\n"
          ]
        }
      ]
    },
    {
      "cell_type": "code",
      "source": [
        ""
      ],
      "metadata": {
        "id": "o0onHmoI3B4L"
      },
      "execution_count": null,
      "outputs": []
    },
    {
      "cell_type": "code",
      "source": [
        "from os import path\n",
        "from PIL import Image\n",
        "import numpy as np\n",
        "import matplotlib.pyplot as plt\n",
        "from wordcloud import WordCloud, STOPWORDS"
      ],
      "metadata": {
        "id": "4RqM1EAp4J2Y"
      },
      "execution_count": 11,
      "outputs": []
    },
    {
      "cell_type": "code",
      "source": [
        "wordcloud = WordCloud().generate(get_summary)\n",
        "plt.imshow(wordcloud, interpolation='bilinear')\n",
        "plt.axis(\"off\")"
      ],
      "metadata": {
        "colab": {
          "base_uri": "https://localhost:8080/",
          "height": 215
        },
        "id": "-D51vcCK4J6H",
        "outputId": "96a54200-1af6-45b3-db04-35947e440cee"
      },
      "execution_count": 12,
      "outputs": [
        {
          "output_type": "execute_result",
          "data": {
            "text/plain": [
              "(-0.5, 399.5, 199.5, -0.5)"
            ]
          },
          "metadata": {},
          "execution_count": 12
        },
        {
          "output_type": "display_data",
          "data": {
            "image/png": "[encoded data removed]",
            "text/plain": [
              "<Figure size 432x288 with 1 Axes>"
            ]
          },
          "metadata": {
            "needs_background": "light"
          }
        }
      ]
    },
    {
      "cell_type": "code",
      "source": [
        ""
      ],
      "metadata": {
        "id": "1SdwW-8q4Ozl"
      },
      "execution_count": null,
      "outputs": []
    },
    {
      "cell_type": "markdown",
      "source": [
        "**Text summarization with BART**"
      ],
      "metadata": {
        "id": "MHeol8WX3Vmr"
      }
    },
    {
      "cell_type": "markdown",
      "source": [
        "## **BART(Bidirectional and Auto-Regressive Transformers)**uses a standard seq2seq machine translation architecture with a bidirectional encoder (similar to BERT) and a left-to-right decoder (similar to GPT). "
      ],
      "metadata": {
        "id": "WrnDf_Fn6BN-"
      }
    },
    {
      "cell_type": "code",
      "source": [
        "!pip install bart"
      ],
      "metadata": {
        "colab": {
          "base_uri": "https://localhost:8080/"
        },
        "id": "SIoGxHYm3nKK",
        "outputId": "bafb3008-a67b-40e9-a0ae-236c9e8a9709"
      },
      "execution_count": 9,
      "outputs": [
        {
          "output_type": "stream",
          "name": "stdout",
          "text": [
            "Collecting bart\n",
            "  Downloading bart-0.0.3.tar.gz (266 kB)\n",
            "\u001b[?25l\r\u001b[K     |█▎                              | 10 kB 22.8 MB/s eta 0:00:01\r\u001b[K     |██▌                             | 20 kB 26.6 MB/s eta 0:00:01\r\u001b[K     |███▊                            | 30 kB 18.7 MB/s eta 0:00:01\r\u001b[K     |█████                           | 40 kB 12.8 MB/s eta 0:00:01\r\u001b[K     |██████▏                         | 51 kB 8.8 MB/s eta 0:00:01\r\u001b[K     |███████▍                        | 61 kB 9.0 MB/s eta 0:00:01\r\u001b[K     |████████▋                       | 71 kB 7.3 MB/s eta 0:00:01\r\u001b[K     |█████████▉                      | 81 kB 8.1 MB/s eta 0:00:01\r\u001b[K     |███████████                     | 92 kB 7.3 MB/s eta 0:00:01\r\u001b[K     |████████████▎                   | 102 kB 7.9 MB/s eta 0:00:01\r\u001b[K     |█████████████▌                  | 112 kB 7.9 MB/s eta 0:00:01\r\u001b[K     |██████████████▊                 | 122 kB 7.9 MB/s eta 0:00:01\r\u001b[K     |████████████████                | 133 kB 7.9 MB/s eta 0:00:01\r\u001b[K     |█████████████████▎              | 143 kB 7.9 MB/s eta 0:00:01\r\u001b[K     |██████████████████▌             | 153 kB 7.9 MB/s eta 0:00:01\r\u001b[K     |███████████████████▊            | 163 kB 7.9 MB/s eta 0:00:01\r\u001b[K     |█████████████████████           | 174 kB 7.9 MB/s eta 0:00:01\r\u001b[K     |██████████████████████▏         | 184 kB 7.9 MB/s eta 0:00:01\r\u001b[K     |███████████████████████▍        | 194 kB 7.9 MB/s eta 0:00:01\r\u001b[K     |████████████████████████▋       | 204 kB 7.9 MB/s eta 0:00:01\r\u001b[K     |█████████████████████████▉      | 215 kB 7.9 MB/s eta 0:00:01\r\u001b[K     |███████████████████████████     | 225 kB 7.9 MB/s eta 0:00:01\r\u001b[K     |████████████████████████████▎   | 235 kB 7.9 MB/s eta 0:00:01\r\u001b[K     |█████████████████████████████▌  | 245 kB 7.9 MB/s eta 0:00:01\r\u001b[K     |██████████████████████████████▊ | 256 kB 7.9 MB/s eta 0:00:01\r\u001b[K     |████████████████████████████████| 266 kB 7.9 MB/s eta 0:00:01\r\u001b[K     |████████████████████████████████| 266 kB 7.9 MB/s \n",
            "\u001b[33mWARNING: Discarding https://files.pythonhosted.org/packages/8a/78/bcf8000380c0ccf4c624ebe28a031978b4970298884de74485aae9169de3/bart-0.0.3.tar.gz#sha256=1745e4eef6c167a132638fb9ee4e769b3071cda0e698c10fa64e080c4ac5fa1a (from https://pypi.org/simple/bart/). Command errored out with exit status 1: python setup.py egg_info Check the logs for full command output.\u001b[0m\n",
            "\u001b[?25h  Downloading bart-0.0.2.tar.gz (16 kB)\n",
            "Collecting emcee\n",
            "  Downloading emcee-3.1.1-py2.py3-none-any.whl (45 kB)\n",
            "\u001b[K     |████████████████████████████████| 45 kB 3.7 MB/s \n",
            "\u001b[?25hCollecting triangle_plot\n",
            "  Downloading triangle_plot-0.3.0.tar.gz (1.5 kB)\n",
            "Requirement already satisfied: numpy in /usr/local/lib/python3.7/dist-packages (from emcee->bart) (1.19.5)\n",
            "Building wheels for collected packages: bart, triangle-plot\n",
            "  Building wheel for bart (setup.py) ... \u001b[?25l\u001b[?25hdone\n",
            "  Created wheel for bart: filename=bart-0.0.2-cp37-cp37m-linux_x86_64.whl size=169063 sha256=83e05225e0042be36e85d467298024ebc89247cf0fc5d17efaf15635740cbc10\n",
            "  Stored in directory: /root/.cache/pip/wheels/6c/39/71/d22753428f0ac187a1e4abe74ebd532042b5d7b9d07907cd06\n",
            "  Building wheel for triangle-plot (setup.py) ... \u001b[?25l\u001b[?25hdone\n",
            "  Created wheel for triangle-plot: filename=triangle_plot-0.3.0-py3-none-any.whl size=1793 sha256=9faf312f80482007cf05b5b9c43bbc6c2904c033f369bed2a39b0540c14d2c9d\n",
            "  Stored in directory: /root/.cache/pip/wheels/b1/29/77/0a5de9ec4824e84d8c023c8edd3ac395ed4f8262e6911a8d82\n",
            "Successfully built bart triangle-plot\n",
            "Installing collected packages: triangle-plot, emcee, bart\n",
            "Successfully installed bart-0.0.2 emcee-3.1.1 triangle-plot-0.3.0\n"
          ]
        }
      ]
    },
    {
      "cell_type": "code",
      "source": [
        "!pip install transformers"
      ],
      "metadata": {
        "colab": {
          "base_uri": "https://localhost:8080/"
        },
        "id": "wMFTNpMy3nN5",
        "outputId": "66928391-3a36-4b6b-f078-d4f842e9aa2f"
      },
      "execution_count": 10,
      "outputs": [
        {
          "output_type": "stream",
          "name": "stdout",
          "text": [
            "Requirement already satisfied: transformers in /usr/local/lib/python3.7/dist-packages (4.15.0)\n",
            "Requirement already satisfied: requests in /usr/local/lib/python3.7/dist-packages (from transformers) (2.23.0)\n",
            "Requirement already satisfied: tqdm>=4.27 in /usr/local/lib/python3.7/dist-packages (from transformers) (4.62.3)\n",
            "Requirement already satisfied: importlib-metadata in /usr/local/lib/python3.7/dist-packages (from transformers) (4.10.0)\n",
            "Requirement already satisfied: huggingface-hub<1.0,>=0.1.0 in /usr/local/lib/python3.7/dist-packages (from transformers) (0.4.0)\n",
            "Requirement already satisfied: packaging>=20.0 in /usr/local/lib/python3.7/dist-packages (from transformers) (21.3)\n",
            "Requirement already satisfied: filelock in /usr/local/lib/python3.7/dist-packages (from transformers) (3.4.2)\n",
            "Requirement already satisfied: pyyaml>=5.1 in /usr/local/lib/python3.7/dist-packages (from transformers) (6.0)\n",
            "Requirement already satisfied: tokenizers<0.11,>=0.10.1 in /usr/local/lib/python3.7/dist-packages (from transformers) (0.10.3)\n",
            "Requirement already satisfied: regex!=2019.12.17 in /usr/local/lib/python3.7/dist-packages (from transformers) (2019.12.20)\n",
            "Requirement already satisfied: sacremoses in /usr/local/lib/python3.7/dist-packages (from transformers) (0.0.47)\n",
            "Requirement already satisfied: numpy>=1.17 in /usr/local/lib/python3.7/dist-packages (from transformers) (1.19.5)\n",
            "Requirement already satisfied: typing-extensions>=3.7.4.3 in /usr/local/lib/python3.7/dist-packages (from huggingface-hub<1.0,>=0.1.0->transformers) (3.10.0.2)\n",
            "Requirement already satisfied: pyparsing!=3.0.5,>=2.0.2 in /usr/local/lib/python3.7/dist-packages (from packaging>=20.0->transformers) (3.0.6)\n",
            "Requirement already satisfied: zipp>=0.5 in /usr/local/lib/python3.7/dist-packages (from importlib-metadata->transformers) (3.7.0)\n",
            "Requirement already satisfied: chardet<4,>=3.0.2 in /usr/local/lib/python3.7/dist-packages (from requests->transformers) (3.0.4)\n",
            "Requirement already satisfied: certifi>=2017.4.17 in /usr/local/lib/python3.7/dist-packages (from requests->transformers) (2021.10.8)\n",
            "Requirement already satisfied: urllib3!=1.25.0,!=1.25.1,<1.26,>=1.21.1 in /usr/local/lib/python3.7/dist-packages (from requests->transformers) (1.24.3)\n",
            "Requirement already satisfied: idna<3,>=2.5 in /usr/local/lib/python3.7/dist-packages (from requests->transformers) (2.10)\n",
            "Requirement already satisfied: joblib in /usr/local/lib/python3.7/dist-packages (from sacremoses->transformers) (1.1.0)\n",
            "Requirement already satisfied: six in /usr/local/lib/python3.7/dist-packages (from sacremoses->transformers) (1.15.0)\n",
            "Requirement already satisfied: click in /usr/local/lib/python3.7/dist-packages (from sacremoses->transformers) (7.1.2)\n"
          ]
        }
      ]
    },
    {
      "cell_type": "code",
      "source": [
        "# importing BART\n",
        "from transformers import BartForConditionalGeneration, BartTokenizer, BartConfig"
      ],
      "metadata": {
        "id": "uBpB1IfC3nR7"
      },
      "execution_count": 11,
      "outputs": []
    },
    {
      "cell_type": "code",
      "source": [
        "# Loading the model and tokenizer for bart-large-cnn\n",
        "tokenizer=BartTokenizer.from_pretrained('facebook/bart-large-cnn')\n",
        "model=BartForConditionalGeneration.from_pretrained('facebook/bart-large-cnn')"
      ],
      "metadata": {
        "colab": {
          "base_uri": "https://localhost:8080/",
          "height": 177,
          "referenced_widgets": [
            "967af17a80984822916d1c36b9d652ab",
            "e17884e74c244b85ad253cea8ac70cfe",
            "c27ae19cca4f4676aed3f78ad0bb12f3",
            "aa2479b11b5a4e73a10189d0377730ac",
            "4ff3f3c1577a4b2ab6cd18aa0364d5cd",
            "2b0761bfd7334d279728fc280a0df6b2",
            "2a8fdb114de641039cf578793e0722a8",
            "9534b8190aae4963a456305375cefb2e",
            "652cfd7070ef41a1a4d0c1aad80bc7ae",
            "9b1131d05edc4a69a4d7e512f1f41fed",
            "ef8dfb823de24c97b41bb9a056e5cc47",
            "3d6e452ec8534ff2bf2317dd23c1ddf9",
            "00c6fae7009b4ddab788c92b27f571f6",
            "9c88c9e6de1f487bb79427d02dda5def",
            "2717e9d8f86c467ba55c2b3a22fd5ab0",
            "bd798bd82ec04555b907b4252504684f",
            "59e2c86c3e9a48e6bd7d161fd11077b7",
            "fdc4e0201f90437db6ea69cb836906fe",
            "55e07fa796244753ba592c34deebcd2e",
            "27ff2382bfb846ee93345b29bb5144a9",
            "0c86dbbd1d0e435dadd9055297b69ed0",
            "dde580339f3f4f6b83cebaf15c71cbca",
            "fafd142f4ac945b48cb137cde481ecc6",
            "288dde3bb4fe47a5b102ec9f8d31bdce",
            "fb90546cb3754707a0743054be506393",
            "5c8a0cc5a40a47cda969d1bdedd45d77",
            "6120f54afd134fa7aaa4b1399f3311bb",
            "96bcde6ef9424a6c96d8722b2b99510d",
            "930ba91eab48418cb87c89b7080c967c",
            "dc9b8c9876f64ff4bb21e903ef717660",
            "d194a6f12bcc49e9acaa90df800ad8d5",
            "5f31a50aad954238bd89aa5db1d497ed",
            "492e6b8aedc6448d97712627006b3512",
            "c79e444ac0344837a584f0b126ce57a1",
            "9067a7c70dd745afb7baef615aab7bcf",
            "df1469ff82674690a876e9ca8011d57a",
            "58a09f339ee743c9b345b2df7af6eb70",
            "d62935eec20b4aeb9bbf92c3188c9836",
            "77a8062c47ec4f568db7d78d2c600571",
            "071e251d4dd7446a81b6ff3adb8ad313",
            "1c02d93baab64b939e0e0c15edbd03d4",
            "87897f7f451b4b2d9a68971037f4d8a7",
            "30f20b04f51744bcbc8514e681dd6110",
            "f24c958e68cb45e4a186095740b984e0",
            "48dfe73230004a01a13c556db228673e",
            "4d34c09d37914c978c5af157ab2c5156",
            "e40e3c1ed36b4d708d806de91e327f4c",
            "b2c69f9f91114335a2dace591822be18",
            "df3bf121a7e34fc3925c16719eb97f70",
            "5d9afc2ef8114c40a3541006e9c3bae6",
            "5187aa8356d64c8b8ad2c9e1b21ad865",
            "339a38e2bc304124914c0d8cd79c4742",
            "bc02a2e0316342719ea0614421207b82",
            "ebdf5b3003ba49aab6502f4d24ace77c",
            "c8dbaf0b0d96435398f157368f414712"
          ]
        },
        "id": "p5pu1jdJ3nUx",
        "outputId": "eba9c9fc-b7f7-4447-a2bc-50c186322242"
      },
      "execution_count": 12,
      "outputs": [
        {
          "output_type": "display_data",
          "data": {
            "application/vnd.jupyter.widget-view+json": {
              "model_id": "967af17a80984822916d1c36b9d652ab",
              "version_minor": 0,
              "version_major": 2
            },
            "text/plain": [
              "Downloading:   0%|          | 0.00/878k [00:00<?, ?B/s]"
            ]
          },
          "metadata": {}
        },
        {
          "output_type": "display_data",
          "data": {
            "application/vnd.jupyter.widget-view+json": {
              "model_id": "3d6e452ec8534ff2bf2317dd23c1ddf9",
              "version_minor": 0,
              "version_major": 2
            },
            "text/plain": [
              "Downloading:   0%|          | 0.00/446k [00:00<?, ?B/s]"
            ]
          },
          "metadata": {}
        },
        {
          "output_type": "display_data",
          "data": {
            "application/vnd.jupyter.widget-view+json": {
              "model_id": "fafd142f4ac945b48cb137cde481ecc6",
              "version_minor": 0,
              "version_major": 2
            },
            "text/plain": [
              "Downloading:   0%|          | 0.00/1.29M [00:00<?, ?B/s]"
            ]
          },
          "metadata": {}
        },
        {
          "output_type": "display_data",
          "data": {
            "application/vnd.jupyter.widget-view+json": {
              "model_id": "c79e444ac0344837a584f0b126ce57a1",
              "version_minor": 0,
              "version_major": 2
            },
            "text/plain": [
              "Downloading:   0%|          | 0.00/1.55k [00:00<?, ?B/s]"
            ]
          },
          "metadata": {}
        },
        {
          "output_type": "display_data",
          "data": {
            "application/vnd.jupyter.widget-view+json": {
              "model_id": "48dfe73230004a01a13c556db228673e",
              "version_minor": 0,
              "version_major": 2
            },
            "text/plain": [
              "Downloading:   0%|          | 0.00/1.51G [00:00<?, ?B/s]"
            ]
          },
          "metadata": {}
        }
      ]
    },
    {
      "cell_type": "code",
      "source": [
        ""
      ],
      "metadata": {
        "id": "zrIg2Uaa3dNs"
      },
      "execution_count": null,
      "outputs": []
    },
    {
      "cell_type": "code",
      "source": [
        "#inputs = tokenizer.batch_encode_plus([wikicontent],return_tensors='pt',truncation=True)\n",
        "inputs=tokenizer.batch_encode_plus([get_summary],return_tensors='pt',truncation=True)\n",
        "#summary_ids = model.generate(inputs['input_ids'], early_stopping=True)\n",
        "summary_ids=model.generate(inputs['input_ids'],early_stopping=True)"
      ],
      "metadata": {
        "id": "hy2S2mej5WmS"
      },
      "execution_count": 13,
      "outputs": []
    },
    {
      "cell_type": "code",
      "source": [
        "# Decoding and printing the summary\n",
        "bart_summary = tokenizer.decode(summary_ids[0], skip_special_tokens=True)\n",
        "print(bart_summary)"
      ],
      "metadata": {
        "colab": {
          "base_uri": "https://localhost:8080/"
        },
        "id": "TubF1yVN5Wsv",
        "outputId": "b1c2009f-0564-4b18-9a00-5d2c3cc9964a"
      },
      "execution_count": 14,
      "outputs": [
        {
          "output_type": "stream",
          "name": "stdout",
          "text": [
            "My research will develop data-centric and generalisable measures to quantify the embedded historical deforestation within the UK’s supply chains. The techniques I develop will be applicable to both agricultural and non-agricultural supply chains of the UK and other OECD (and rapidly developing) countries. My research will contribute to the development of a globally-relevant unambiguous definition of forest/non-forest.\n"
          ]
        }
      ]
    },
    {
      "cell_type": "code",
      "source": [
        ""
      ],
      "metadata": {
        "id": "WSc1YMyH5WxC"
      },
      "execution_count": null,
      "outputs": []
    },
    {
      "cell_type": "code",
      "source": [
        ""
      ],
      "metadata": {
        "id": "vv5vK2OL3dRd"
      },
      "execution_count": null,
      "outputs": []
    }
  ]
}